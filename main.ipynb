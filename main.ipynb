{
 "cells": [
  {
   "cell_type": "markdown",
   "id": "76c80473",
   "metadata": {},
   "source": [
    "# DATA COLLECTION AND EXTRACTION"
   ]
  },
  {
   "cell_type": "markdown",
   "id": "c3731980",
   "metadata": {},
   "source": [
    "## Importing libraries"
   ]
  },
  {
   "cell_type": "code",
   "execution_count": 40,
   "id": "b9f03bcf",
   "metadata": {
    "ExecuteTime": {
     "end_time": "2022-03-28T20:30:29.725301Z",
     "start_time": "2022-03-28T20:30:29.702307Z"
    }
   },
   "outputs": [],
   "source": [
    "import numpy as np\n",
    "import pandas as pd\n",
    "import matplotlib.pyplot as plt\n",
    "import seaborn as sns\n",
    "%matplotlib inline\n",
    "import warnings\n",
    "warnings.filterwarnings('ignore')\n",
    "import os\n",
    "from sklearn import svm\n"
   ]
  },
  {
   "cell_type": "code",
   "execution_count": 2,
   "id": "d735ec63",
   "metadata": {
    "ExecuteTime": {
     "end_time": "2022-03-28T19:25:21.664035Z",
     "start_time": "2022-03-28T19:25:21.563023Z"
    }
   },
   "outputs": [],
   "source": [
    "train = pd.read_csv('C:\\\\Users\\\\samuel\\\\Documents\\\\kaggle_titanic\\\\train.csv')\n",
    "test = pd.read_csv('C:\\\\Users\\\\samuel\\\\Documents\\\\kaggle_titanic\\\\test.csv')\n",
    "example_sub = pd.read_csv('C:\\\\Users\\\\samuel\\\\Documents\\\\kaggle_titanic\\\\gender_submission.csv')"
   ]
  },
  {
   "cell_type": "code",
   "execution_count": 3,
   "id": "57c13c6c",
   "metadata": {
    "ExecuteTime": {
     "end_time": "2022-03-28T19:25:21.703053Z",
     "start_time": "2022-03-28T19:25:21.673017Z"
    }
   },
   "outputs": [
    {
     "data": {
      "text/plain": [
       "((891, 12), (418, 11), (418, 2))"
      ]
     },
     "execution_count": 3,
     "metadata": {},
     "output_type": "execute_result"
    }
   ],
   "source": [
    "train.shape ,test.shape, example_sub.shape"
   ]
  },
  {
   "cell_type": "markdown",
   "id": "5916a5d4",
   "metadata": {},
   "source": [
    "## view and review the train data format"
   ]
  },
  {
   "cell_type": "code",
   "execution_count": 4,
   "id": "89516524",
   "metadata": {
    "ExecuteTime": {
     "end_time": "2022-03-28T19:25:21.864049Z",
     "start_time": "2022-03-28T19:25:21.711012Z"
    },
    "scrolled": true
   },
   "outputs": [
    {
     "data": {
      "text/html": [
       "<div>\n",
       "<style scoped>\n",
       "    .dataframe tbody tr th:only-of-type {\n",
       "        vertical-align: middle;\n",
       "    }\n",
       "\n",
       "    .dataframe tbody tr th {\n",
       "        vertical-align: top;\n",
       "    }\n",
       "\n",
       "    .dataframe thead th {\n",
       "        text-align: right;\n",
       "    }\n",
       "</style>\n",
       "<table border=\"1\" class=\"dataframe\">\n",
       "  <thead>\n",
       "    <tr style=\"text-align: right;\">\n",
       "      <th></th>\n",
       "      <th>PassengerId</th>\n",
       "      <th>Survived</th>\n",
       "      <th>Pclass</th>\n",
       "      <th>Name</th>\n",
       "      <th>Sex</th>\n",
       "      <th>Age</th>\n",
       "      <th>SibSp</th>\n",
       "      <th>Parch</th>\n",
       "      <th>Ticket</th>\n",
       "      <th>Fare</th>\n",
       "      <th>Cabin</th>\n",
       "      <th>Embarked</th>\n",
       "    </tr>\n",
       "  </thead>\n",
       "  <tbody>\n",
       "    <tr>\n",
       "      <th>0</th>\n",
       "      <td>1</td>\n",
       "      <td>0</td>\n",
       "      <td>3</td>\n",
       "      <td>Braund, Mr. Owen Harris</td>\n",
       "      <td>male</td>\n",
       "      <td>22.0</td>\n",
       "      <td>1</td>\n",
       "      <td>0</td>\n",
       "      <td>A/5 21171</td>\n",
       "      <td>7.2500</td>\n",
       "      <td>NaN</td>\n",
       "      <td>S</td>\n",
       "    </tr>\n",
       "    <tr>\n",
       "      <th>1</th>\n",
       "      <td>2</td>\n",
       "      <td>1</td>\n",
       "      <td>1</td>\n",
       "      <td>Cumings, Mrs. John Bradley (Florence Briggs Th...</td>\n",
       "      <td>female</td>\n",
       "      <td>38.0</td>\n",
       "      <td>1</td>\n",
       "      <td>0</td>\n",
       "      <td>PC 17599</td>\n",
       "      <td>71.2833</td>\n",
       "      <td>C85</td>\n",
       "      <td>C</td>\n",
       "    </tr>\n",
       "    <tr>\n",
       "      <th>2</th>\n",
       "      <td>3</td>\n",
       "      <td>1</td>\n",
       "      <td>3</td>\n",
       "      <td>Heikkinen, Miss. Laina</td>\n",
       "      <td>female</td>\n",
       "      <td>26.0</td>\n",
       "      <td>0</td>\n",
       "      <td>0</td>\n",
       "      <td>STON/O2. 3101282</td>\n",
       "      <td>7.9250</td>\n",
       "      <td>NaN</td>\n",
       "      <td>S</td>\n",
       "    </tr>\n",
       "    <tr>\n",
       "      <th>3</th>\n",
       "      <td>4</td>\n",
       "      <td>1</td>\n",
       "      <td>1</td>\n",
       "      <td>Futrelle, Mrs. Jacques Heath (Lily May Peel)</td>\n",
       "      <td>female</td>\n",
       "      <td>35.0</td>\n",
       "      <td>1</td>\n",
       "      <td>0</td>\n",
       "      <td>113803</td>\n",
       "      <td>53.1000</td>\n",
       "      <td>C123</td>\n",
       "      <td>S</td>\n",
       "    </tr>\n",
       "    <tr>\n",
       "      <th>4</th>\n",
       "      <td>5</td>\n",
       "      <td>0</td>\n",
       "      <td>3</td>\n",
       "      <td>Allen, Mr. William Henry</td>\n",
       "      <td>male</td>\n",
       "      <td>35.0</td>\n",
       "      <td>0</td>\n",
       "      <td>0</td>\n",
       "      <td>373450</td>\n",
       "      <td>8.0500</td>\n",
       "      <td>NaN</td>\n",
       "      <td>S</td>\n",
       "    </tr>\n",
       "  </tbody>\n",
       "</table>\n",
       "</div>"
      ],
      "text/plain": [
       "   PassengerId  Survived  Pclass  \\\n",
       "0            1         0       3   \n",
       "1            2         1       1   \n",
       "2            3         1       3   \n",
       "3            4         1       1   \n",
       "4            5         0       3   \n",
       "\n",
       "                                                Name     Sex   Age  SibSp  \\\n",
       "0                            Braund, Mr. Owen Harris    male  22.0      1   \n",
       "1  Cumings, Mrs. John Bradley (Florence Briggs Th...  female  38.0      1   \n",
       "2                             Heikkinen, Miss. Laina  female  26.0      0   \n",
       "3       Futrelle, Mrs. Jacques Heath (Lily May Peel)  female  35.0      1   \n",
       "4                           Allen, Mr. William Henry    male  35.0      0   \n",
       "\n",
       "   Parch            Ticket     Fare Cabin Embarked  \n",
       "0      0         A/5 21171   7.2500   NaN        S  \n",
       "1      0          PC 17599  71.2833   C85        C  \n",
       "2      0  STON/O2. 3101282   7.9250   NaN        S  \n",
       "3      0            113803  53.1000  C123        S  \n",
       "4      0            373450   8.0500   NaN        S  "
      ]
     },
     "execution_count": 4,
     "metadata": {},
     "output_type": "execute_result"
    }
   ],
   "source": [
    "train.head()"
   ]
  },
  {
   "cell_type": "code",
   "execution_count": 5,
   "id": "97748c4a",
   "metadata": {
    "ExecuteTime": {
     "end_time": "2022-03-28T19:25:22.087000Z",
     "start_time": "2022-03-28T19:25:21.870006Z"
    }
   },
   "outputs": [
    {
     "data": {
      "text/html": [
       "<div>\n",
       "<style scoped>\n",
       "    .dataframe tbody tr th:only-of-type {\n",
       "        vertical-align: middle;\n",
       "    }\n",
       "\n",
       "    .dataframe tbody tr th {\n",
       "        vertical-align: top;\n",
       "    }\n",
       "\n",
       "    .dataframe thead th {\n",
       "        text-align: right;\n",
       "    }\n",
       "</style>\n",
       "<table border=\"1\" class=\"dataframe\">\n",
       "  <thead>\n",
       "    <tr style=\"text-align: right;\">\n",
       "      <th></th>\n",
       "      <th>PassengerId</th>\n",
       "      <th>Survived</th>\n",
       "      <th>Pclass</th>\n",
       "      <th>Age</th>\n",
       "      <th>SibSp</th>\n",
       "      <th>Parch</th>\n",
       "      <th>Fare</th>\n",
       "    </tr>\n",
       "  </thead>\n",
       "  <tbody>\n",
       "    <tr>\n",
       "      <th>count</th>\n",
       "      <td>891.000000</td>\n",
       "      <td>891.000000</td>\n",
       "      <td>891.000000</td>\n",
       "      <td>714.000000</td>\n",
       "      <td>891.000000</td>\n",
       "      <td>891.000000</td>\n",
       "      <td>891.000000</td>\n",
       "    </tr>\n",
       "    <tr>\n",
       "      <th>mean</th>\n",
       "      <td>446.000000</td>\n",
       "      <td>0.383838</td>\n",
       "      <td>2.308642</td>\n",
       "      <td>29.699118</td>\n",
       "      <td>0.523008</td>\n",
       "      <td>0.381594</td>\n",
       "      <td>32.204208</td>\n",
       "    </tr>\n",
       "    <tr>\n",
       "      <th>std</th>\n",
       "      <td>257.353842</td>\n",
       "      <td>0.486592</td>\n",
       "      <td>0.836071</td>\n",
       "      <td>14.526497</td>\n",
       "      <td>1.102743</td>\n",
       "      <td>0.806057</td>\n",
       "      <td>49.693429</td>\n",
       "    </tr>\n",
       "    <tr>\n",
       "      <th>min</th>\n",
       "      <td>1.000000</td>\n",
       "      <td>0.000000</td>\n",
       "      <td>1.000000</td>\n",
       "      <td>0.420000</td>\n",
       "      <td>0.000000</td>\n",
       "      <td>0.000000</td>\n",
       "      <td>0.000000</td>\n",
       "    </tr>\n",
       "    <tr>\n",
       "      <th>25%</th>\n",
       "      <td>223.500000</td>\n",
       "      <td>0.000000</td>\n",
       "      <td>2.000000</td>\n",
       "      <td>20.125000</td>\n",
       "      <td>0.000000</td>\n",
       "      <td>0.000000</td>\n",
       "      <td>7.910400</td>\n",
       "    </tr>\n",
       "    <tr>\n",
       "      <th>50%</th>\n",
       "      <td>446.000000</td>\n",
       "      <td>0.000000</td>\n",
       "      <td>3.000000</td>\n",
       "      <td>28.000000</td>\n",
       "      <td>0.000000</td>\n",
       "      <td>0.000000</td>\n",
       "      <td>14.454200</td>\n",
       "    </tr>\n",
       "    <tr>\n",
       "      <th>75%</th>\n",
       "      <td>668.500000</td>\n",
       "      <td>1.000000</td>\n",
       "      <td>3.000000</td>\n",
       "      <td>38.000000</td>\n",
       "      <td>1.000000</td>\n",
       "      <td>0.000000</td>\n",
       "      <td>31.000000</td>\n",
       "    </tr>\n",
       "    <tr>\n",
       "      <th>max</th>\n",
       "      <td>891.000000</td>\n",
       "      <td>1.000000</td>\n",
       "      <td>3.000000</td>\n",
       "      <td>80.000000</td>\n",
       "      <td>8.000000</td>\n",
       "      <td>6.000000</td>\n",
       "      <td>512.329200</td>\n",
       "    </tr>\n",
       "  </tbody>\n",
       "</table>\n",
       "</div>"
      ],
      "text/plain": [
       "       PassengerId    Survived      Pclass         Age       SibSp  \\\n",
       "count   891.000000  891.000000  891.000000  714.000000  891.000000   \n",
       "mean    446.000000    0.383838    2.308642   29.699118    0.523008   \n",
       "std     257.353842    0.486592    0.836071   14.526497    1.102743   \n",
       "min       1.000000    0.000000    1.000000    0.420000    0.000000   \n",
       "25%     223.500000    0.000000    2.000000   20.125000    0.000000   \n",
       "50%     446.000000    0.000000    3.000000   28.000000    0.000000   \n",
       "75%     668.500000    1.000000    3.000000   38.000000    1.000000   \n",
       "max     891.000000    1.000000    3.000000   80.000000    8.000000   \n",
       "\n",
       "            Parch        Fare  \n",
       "count  891.000000  891.000000  \n",
       "mean     0.381594   32.204208  \n",
       "std      0.806057   49.693429  \n",
       "min      0.000000    0.000000  \n",
       "25%      0.000000    7.910400  \n",
       "50%      0.000000   14.454200  \n",
       "75%      0.000000   31.000000  \n",
       "max      6.000000  512.329200  "
      ]
     },
     "execution_count": 5,
     "metadata": {},
     "output_type": "execute_result"
    }
   ],
   "source": [
    "train.describe()"
   ]
  },
  {
   "cell_type": "code",
   "execution_count": 6,
   "id": "8e1b30c5",
   "metadata": {
    "ExecuteTime": {
     "end_time": "2022-03-28T19:25:22.152000Z",
     "start_time": "2022-03-28T19:25:22.096018Z"
    },
    "scrolled": false
   },
   "outputs": [
    {
     "data": {
      "text/plain": [
       "PassengerId      0\n",
       "Survived         0\n",
       "Pclass           0\n",
       "Name             0\n",
       "Sex              0\n",
       "Age            177\n",
       "SibSp            0\n",
       "Parch            0\n",
       "Ticket           0\n",
       "Fare             0\n",
       "Cabin          687\n",
       "Embarked         2\n",
       "dtype: int64"
      ]
     },
     "execution_count": 6,
     "metadata": {},
     "output_type": "execute_result"
    }
   ],
   "source": [
    "train.isna().sum()"
   ]
  },
  {
   "cell_type": "markdown",
   "id": "c18fbb49",
   "metadata": {},
   "source": [
    "# fill the null values "
   ]
  },
  {
   "cell_type": "markdown",
   "id": "8e01cdc5",
   "metadata": {},
   "source": [
    "try removing the missing values in the Embarked column and also replace the missing values in the age column with the median\n",
    "Also , we will have to remove the cabin column since we don't really have any need for it."
   ]
  },
  {
   "cell_type": "code",
   "execution_count": 7,
   "id": "d99e15d8",
   "metadata": {
    "ExecuteTime": {
     "end_time": "2022-03-28T19:25:22.289007Z",
     "start_time": "2022-03-28T19:25:22.157998Z"
    }
   },
   "outputs": [
    {
     "name": "stdout",
     "output_type": "stream",
     "text": [
      "<class 'pandas.core.frame.DataFrame'>\n",
      "RangeIndex: 891 entries, 0 to 890\n",
      "Data columns (total 10 columns):\n",
      " #   Column       Non-Null Count  Dtype  \n",
      "---  ------       --------------  -----  \n",
      " 0   PassengerId  891 non-null    int64  \n",
      " 1   Survived     891 non-null    int64  \n",
      " 2   Pclass       891 non-null    int64  \n",
      " 3   Sex          891 non-null    object \n",
      " 4   Age          891 non-null    float64\n",
      " 5   SibSp        891 non-null    int64  \n",
      " 6   Parch        891 non-null    int64  \n",
      " 7   Ticket       891 non-null    object \n",
      " 8   Fare         891 non-null    float64\n",
      " 9   Embarked     891 non-null    object \n",
      "dtypes: float64(2), int64(5), object(3)\n",
      "memory usage: 69.7+ KB\n"
     ]
    }
   ],
   "source": [
    "\n",
    "train.Age.fillna(train.Age.median(), inplace=True)\n",
    "train.drop(columns=['Cabin','Name'],inplace=True)\n",
    "train.Embarked.fillna('C',inplace=True)\n",
    "train.info()"
   ]
  },
  {
   "cell_type": "code",
   "execution_count": 8,
   "id": "0e2ec8f6",
   "metadata": {
    "ExecuteTime": {
     "end_time": "2022-03-28T19:25:22.381020Z",
     "start_time": "2022-03-28T19:25:22.294017Z"
    }
   },
   "outputs": [
    {
     "data": {
      "text/plain": [
       "0"
      ]
     },
     "execution_count": 8,
     "metadata": {},
     "output_type": "execute_result"
    }
   ],
   "source": [
    "train.duplicated().sum()"
   ]
  },
  {
   "cell_type": "markdown",
   "id": "62407832",
   "metadata": {
    "ExecuteTime": {
     "end_time": "2022-03-22T12:55:50.781879Z",
     "start_time": "2022-03-22T12:55:50.725894Z"
    }
   },
   "source": [
    "# FEATURE ENGINEERING"
   ]
  },
  {
   "cell_type": "code",
   "execution_count": 9,
   "id": "609fa91b",
   "metadata": {
    "ExecuteTime": {
     "end_time": "2022-03-28T19:25:22.469026Z",
     "start_time": "2022-03-28T19:25:22.396023Z"
    }
   },
   "outputs": [],
   "source": [
    "train.Sex = pd.get_dummies(train.Sex).male # so male stands for 1 and female 0"
   ]
  },
  {
   "cell_type": "code",
   "execution_count": 10,
   "id": "ef37e846",
   "metadata": {
    "ExecuteTime": {
     "end_time": "2022-03-28T19:25:24.157020Z",
     "start_time": "2022-03-28T19:25:22.476019Z"
    }
   },
   "outputs": [
    {
     "name": "stdout",
     "output_type": "stream",
     "text": [
      "S    644\n",
      "C    170\n",
      "Q     77\n",
      "Name: Embarked, dtype: int64\n"
     ]
    },
    {
     "data": {
      "text/plain": [
       "<AxesSubplot:xlabel='Embarked', ylabel='count'>"
      ]
     },
     "execution_count": 10,
     "metadata": {},
     "output_type": "execute_result"
    },
    {
     "data": {
      "image/png": "[encoded data removed]",
      "text/plain": [
       "<Figure size 432x288 with 1 Axes>"
      ]
     },
     "metadata": {
      "needs_background": "light"
     },
     "output_type": "display_data"
    }
   ],
   "source": [
    "from sklearn.preprocessing import LabelEncoder\n",
    "# Creating a instance of label Encoder.\n",
    "le = LabelEncoder()\n",
    "print(train.Embarked.value_counts())\n",
    "Embarked_encoded = le.fit_transform(train.Embarked)\n",
    "train.Embarked = Embarked_encoded\n",
    "\n",
    "sns.countplot(data=train,x='Embarked')"
   ]
  },
  {
   "cell_type": "markdown",
   "id": "4ba44a17",
   "metadata": {},
   "source": [
    "before we proceed we will have to apply all the feature engineering we did on the training set on the testing set as well."
   ]
  },
  {
   "cell_type": "code",
   "execution_count": 11,
   "id": "3f69240f",
   "metadata": {
    "ExecuteTime": {
     "end_time": "2022-03-28T19:25:24.216025Z",
     "start_time": "2022-03-28T19:25:24.164040Z"
    },
    "scrolled": true
   },
   "outputs": [
    {
     "data": {
      "text/html": [
       "<div>\n",
       "<style scoped>\n",
       "    .dataframe tbody tr th:only-of-type {\n",
       "        vertical-align: middle;\n",
       "    }\n",
       "\n",
       "    .dataframe tbody tr th {\n",
       "        vertical-align: top;\n",
       "    }\n",
       "\n",
       "    .dataframe thead th {\n",
       "        text-align: right;\n",
       "    }\n",
       "</style>\n",
       "<table border=\"1\" class=\"dataframe\">\n",
       "  <thead>\n",
       "    <tr style=\"text-align: right;\">\n",
       "      <th></th>\n",
       "      <th>PassengerId</th>\n",
       "      <th>Pclass</th>\n",
       "      <th>Name</th>\n",
       "      <th>Sex</th>\n",
       "      <th>Age</th>\n",
       "      <th>SibSp</th>\n",
       "      <th>Parch</th>\n",
       "      <th>Ticket</th>\n",
       "      <th>Fare</th>\n",
       "      <th>Cabin</th>\n",
       "      <th>Embarked</th>\n",
       "    </tr>\n",
       "  </thead>\n",
       "  <tbody>\n",
       "    <tr>\n",
       "      <th>0</th>\n",
       "      <td>892</td>\n",
       "      <td>3</td>\n",
       "      <td>Kelly, Mr. James</td>\n",
       "      <td>male</td>\n",
       "      <td>34.5</td>\n",
       "      <td>0</td>\n",
       "      <td>0</td>\n",
       "      <td>330911</td>\n",
       "      <td>7.8292</td>\n",
       "      <td>NaN</td>\n",
       "      <td>Q</td>\n",
       "    </tr>\n",
       "    <tr>\n",
       "      <th>1</th>\n",
       "      <td>893</td>\n",
       "      <td>3</td>\n",
       "      <td>Wilkes, Mrs. James (Ellen Needs)</td>\n",
       "      <td>female</td>\n",
       "      <td>47.0</td>\n",
       "      <td>1</td>\n",
       "      <td>0</td>\n",
       "      <td>363272</td>\n",
       "      <td>7.0000</td>\n",
       "      <td>NaN</td>\n",
       "      <td>S</td>\n",
       "    </tr>\n",
       "    <tr>\n",
       "      <th>2</th>\n",
       "      <td>894</td>\n",
       "      <td>2</td>\n",
       "      <td>Myles, Mr. Thomas Francis</td>\n",
       "      <td>male</td>\n",
       "      <td>62.0</td>\n",
       "      <td>0</td>\n",
       "      <td>0</td>\n",
       "      <td>240276</td>\n",
       "      <td>9.6875</td>\n",
       "      <td>NaN</td>\n",
       "      <td>Q</td>\n",
       "    </tr>\n",
       "    <tr>\n",
       "      <th>3</th>\n",
       "      <td>895</td>\n",
       "      <td>3</td>\n",
       "      <td>Wirz, Mr. Albert</td>\n",
       "      <td>male</td>\n",
       "      <td>27.0</td>\n",
       "      <td>0</td>\n",
       "      <td>0</td>\n",
       "      <td>315154</td>\n",
       "      <td>8.6625</td>\n",
       "      <td>NaN</td>\n",
       "      <td>S</td>\n",
       "    </tr>\n",
       "    <tr>\n",
       "      <th>4</th>\n",
       "      <td>896</td>\n",
       "      <td>3</td>\n",
       "      <td>Hirvonen, Mrs. Alexander (Helga E Lindqvist)</td>\n",
       "      <td>female</td>\n",
       "      <td>22.0</td>\n",
       "      <td>1</td>\n",
       "      <td>1</td>\n",
       "      <td>3101298</td>\n",
       "      <td>12.2875</td>\n",
       "      <td>NaN</td>\n",
       "      <td>S</td>\n",
       "    </tr>\n",
       "  </tbody>\n",
       "</table>\n",
       "</div>"
      ],
      "text/plain": [
       "   PassengerId  Pclass                                          Name     Sex  \\\n",
       "0          892       3                              Kelly, Mr. James    male   \n",
       "1          893       3              Wilkes, Mrs. James (Ellen Needs)  female   \n",
       "2          894       2                     Myles, Mr. Thomas Francis    male   \n",
       "3          895       3                              Wirz, Mr. Albert    male   \n",
       "4          896       3  Hirvonen, Mrs. Alexander (Helga E Lindqvist)  female   \n",
       "\n",
       "    Age  SibSp  Parch   Ticket     Fare Cabin Embarked  \n",
       "0  34.5      0      0   330911   7.8292   NaN        Q  \n",
       "1  47.0      1      0   363272   7.0000   NaN        S  \n",
       "2  62.0      0      0   240276   9.6875   NaN        Q  \n",
       "3  27.0      0      0   315154   8.6625   NaN        S  \n",
       "4  22.0      1      1  3101298  12.2875   NaN        S  "
      ]
     },
     "execution_count": 11,
     "metadata": {},
     "output_type": "execute_result"
    }
   ],
   "source": [
    "test.head()"
   ]
  },
  {
   "cell_type": "code",
   "execution_count": 12,
   "id": "84c79c5e",
   "metadata": {
    "ExecuteTime": {
     "end_time": "2022-03-28T19:25:24.349022Z",
     "start_time": "2022-03-28T19:25:24.225021Z"
    }
   },
   "outputs": [
    {
     "name": "stdout",
     "output_type": "stream",
     "text": [
      "<class 'pandas.core.frame.DataFrame'>\n",
      "RangeIndex: 418 entries, 0 to 417\n",
      "Data columns (total 9 columns):\n",
      " #   Column       Non-Null Count  Dtype  \n",
      "---  ------       --------------  -----  \n",
      " 0   PassengerId  418 non-null    int64  \n",
      " 1   Pclass       418 non-null    int64  \n",
      " 2   Sex          418 non-null    int32  \n",
      " 3   Age          418 non-null    float64\n",
      " 4   SibSp        418 non-null    int64  \n",
      " 5   Parch        418 non-null    int64  \n",
      " 6   Ticket       418 non-null    object \n",
      " 7   Fare         418 non-null    float64\n",
      " 8   Embarked     418 non-null    int32  \n",
      "dtypes: float64(2), int32(2), int64(4), object(1)\n",
      "memory usage: 26.2+ KB\n"
     ]
    }
   ],
   "source": [
    "\n",
    "test.Age.fillna(test.Age.median(), inplace=True)\n",
    "test.drop(columns=['Cabin','Name'],inplace=True)\n",
    "\n",
    "# using label encoding for the sex and the Embarked column\n",
    "test.Sex = le.fit_transform(test.Sex)\n",
    "test.Embarked = le.fit_transform(test.Embarked)\n",
    "test.Fare.fillna(test.Fare.mean(),inplace=True)\n",
    "test.info()\n"
   ]
  },
  {
   "cell_type": "code",
   "execution_count": 13,
   "id": "0425ad69",
   "metadata": {
    "ExecuteTime": {
     "end_time": "2022-03-28T19:25:24.477018Z",
     "start_time": "2022-03-28T19:25:24.354004Z"
    }
   },
   "outputs": [
    {
     "data": {
      "text/html": [
       "<div>\n",
       "<style scoped>\n",
       "    .dataframe tbody tr th:only-of-type {\n",
       "        vertical-align: middle;\n",
       "    }\n",
       "\n",
       "    .dataframe tbody tr th {\n",
       "        vertical-align: top;\n",
       "    }\n",
       "\n",
       "    .dataframe thead th {\n",
       "        text-align: right;\n",
       "    }\n",
       "</style>\n",
       "<table border=\"1\" class=\"dataframe\">\n",
       "  <thead>\n",
       "    <tr style=\"text-align: right;\">\n",
       "      <th></th>\n",
       "      <th>PassengerId</th>\n",
       "      <th>Pclass</th>\n",
       "      <th>Sex</th>\n",
       "      <th>Age</th>\n",
       "      <th>SibSp</th>\n",
       "      <th>Parch</th>\n",
       "      <th>Ticket</th>\n",
       "      <th>Fare</th>\n",
       "      <th>Embarked</th>\n",
       "    </tr>\n",
       "  </thead>\n",
       "  <tbody>\n",
       "    <tr>\n",
       "      <th>0</th>\n",
       "      <td>892</td>\n",
       "      <td>3</td>\n",
       "      <td>1</td>\n",
       "      <td>34.5</td>\n",
       "      <td>0</td>\n",
       "      <td>0</td>\n",
       "      <td>330911</td>\n",
       "      <td>7.8292</td>\n",
       "      <td>1</td>\n",
       "    </tr>\n",
       "    <tr>\n",
       "      <th>1</th>\n",
       "      <td>893</td>\n",
       "      <td>3</td>\n",
       "      <td>0</td>\n",
       "      <td>47.0</td>\n",
       "      <td>1</td>\n",
       "      <td>0</td>\n",
       "      <td>363272</td>\n",
       "      <td>7.0000</td>\n",
       "      <td>2</td>\n",
       "    </tr>\n",
       "    <tr>\n",
       "      <th>2</th>\n",
       "      <td>894</td>\n",
       "      <td>2</td>\n",
       "      <td>1</td>\n",
       "      <td>62.0</td>\n",
       "      <td>0</td>\n",
       "      <td>0</td>\n",
       "      <td>240276</td>\n",
       "      <td>9.6875</td>\n",
       "      <td>1</td>\n",
       "    </tr>\n",
       "    <tr>\n",
       "      <th>3</th>\n",
       "      <td>895</td>\n",
       "      <td>3</td>\n",
       "      <td>1</td>\n",
       "      <td>27.0</td>\n",
       "      <td>0</td>\n",
       "      <td>0</td>\n",
       "      <td>315154</td>\n",
       "      <td>8.6625</td>\n",
       "      <td>2</td>\n",
       "    </tr>\n",
       "    <tr>\n",
       "      <th>4</th>\n",
       "      <td>896</td>\n",
       "      <td>3</td>\n",
       "      <td>0</td>\n",
       "      <td>22.0</td>\n",
       "      <td>1</td>\n",
       "      <td>1</td>\n",
       "      <td>3101298</td>\n",
       "      <td>12.2875</td>\n",
       "      <td>2</td>\n",
       "    </tr>\n",
       "  </tbody>\n",
       "</table>\n",
       "</div>"
      ],
      "text/plain": [
       "   PassengerId  Pclass  Sex   Age  SibSp  Parch   Ticket     Fare  Embarked\n",
       "0          892       3    1  34.5      0      0   330911   7.8292         1\n",
       "1          893       3    0  47.0      1      0   363272   7.0000         2\n",
       "2          894       2    1  62.0      0      0   240276   9.6875         1\n",
       "3          895       3    1  27.0      0      0   315154   8.6625         2\n",
       "4          896       3    0  22.0      1      1  3101298  12.2875         2"
      ]
     },
     "execution_count": 13,
     "metadata": {},
     "output_type": "execute_result"
    }
   ],
   "source": [
    "test.head()"
   ]
  },
  {
   "cell_type": "markdown",
   "id": "205eef1c",
   "metadata": {},
   "source": [
    "# MODELLING"
   ]
  },
  {
   "cell_type": "code",
   "execution_count": 71,
   "id": "09bd9b8d",
   "metadata": {
    "ExecuteTime": {
     "end_time": "2022-03-28T21:17:35.059760Z",
     "start_time": "2022-03-28T21:17:34.979792Z"
    },
    "scrolled": true
   },
   "outputs": [],
   "source": [
    "X = train[['Pclass', 'Sex', 'Age','SibSp','Parch','Ticket','Fare','Embarked']]\n",
    "y = train.Survived\n",
    "#sns.pairplot(data=train, hue=train.Survived,dropna=True,height=3)\n",
    "# pd.plotting.scatter_matrix(X,c=y,alpha=.8,cmap='Set1',figsize=(30,15))\n",
    "# plt.show()"
   ]
  },
  {
   "cell_type": "code",
   "execution_count": 55,
   "id": "8a2124c8",
   "metadata": {
    "ExecuteTime": {
     "end_time": "2022-03-28T21:04:46.106462Z",
     "start_time": "2022-03-28T21:04:46.026457Z"
    }
   },
   "outputs": [
    {
     "name": "stdout",
     "output_type": "stream",
     "text": [
      "(623, 4)\n",
      "Pclass  Sex  Age   Fare   \n",
      "3       1    28.0  7.8958     10\n",
      "                   7.7500      8\n",
      "                   8.0500      7\n",
      "        0    28.0  7.7500      5\n",
      "        1    28.0  7.2292      4\n",
      "                              ..\n",
      "2       0    28.0  33.0000     1\n",
      "                   26.0000     1\n",
      "                   13.0000     1\n",
      "                   12.3500     1\n",
      "3       1    74.0  7.7750      1\n",
      "Length: 538, dtype: int64\n",
      "(268, 4)\n",
      "Pclass  Sex  Age   Fare   \n",
      "3       1    28.0  7.8958     7\n",
      "                   8.0500     5\n",
      "        0    28.0  7.7500     4\n",
      "        1    19.0  7.8958     3\n",
      "             28.0  7.7500     3\n",
      "                             ..\n",
      "2       1    1.0   37.0042    1\n",
      "                   39.0000    1\n",
      "             16.0  26.0000    1\n",
      "             21.0  11.5000    1\n",
      "3       1    51.0  7.7500     1\n",
      "Length: 242, dtype: int64\n",
      "(623,)\n",
      "0    384\n",
      "1    239\n",
      "Name: Survived, dtype: int64\n",
      "(268,)\n",
      "0    165\n",
      "1    103\n",
      "Name: Survived, dtype: int64\n"
     ]
    }
   ],
   "source": [
    "# split the model into training and testing halves\n",
    "from sklearn.model_selection import train_test_split\n",
    "X_train,X_test,y_train,y_test = train_test_split(X,y,random_state = 234,stratify=y,train_size = .7)\n",
    "\n",
    "for parts in X_train,X_test,y_train,y_test:\n",
    "    print(f'{parts.shape}')\n",
    "    print(parts.value_counts())\n",
    "    \n",
    "# print(X_train.value_counts())"
   ]
  },
  {
   "cell_type": "code",
   "execution_count": 59,
   "id": "184f0bd2",
   "metadata": {
    "ExecuteTime": {
     "end_time": "2022-03-28T21:05:00.738980Z",
     "start_time": "2022-03-28T21:05:00.635004Z"
    }
   },
   "outputs": [
    {
     "name": "stdout",
     "output_type": "stream",
     "text": [
      "Logistic Model accuracy: 0.7947761194029851\n",
      "\n",
      "               precision    recall  f1-score   support\n",
      "\n",
      "           0       0.81      0.87      0.84       165\n",
      "           1       0.77      0.67      0.72       103\n",
      "\n",
      "    accuracy                           0.79       268\n",
      "   macro avg       0.79      0.77      0.78       268\n",
      "weighted avg       0.79      0.79      0.79       268\n",
      "\n"
     ]
    }
   ],
   "source": [
    "from sklearn.ensemble import RandomForestClassifier\n",
    "from sklearn import metrics\n",
    "from sklearn.linear_model import LogisticRegression\n",
    "\n",
    "logreg = LogisticRegression()\n",
    "logreg.fit(X_train,y_train)\n",
    "y_pred = logreg.predict(X_test)\n",
    "print('Logistic Model accuracy:', metrics.accuracy_score(y_test, y_pred))\n",
    "print('\\n', metrics.classification_report(y_test,y_pred))"
   ]
  },
  {
   "cell_type": "code",
   "execution_count": 60,
   "id": "201ee9a9",
   "metadata": {
    "ExecuteTime": {
     "end_time": "2022-03-28T21:05:01.955315Z",
     "start_time": "2022-03-28T21:05:01.931324Z"
    },
    "scrolled": true
   },
   "outputs": [
    {
     "data": {
      "text/plain": [
       "array([[144,  21],\n",
       "       [ 34,  69]], dtype=int64)"
      ]
     },
     "execution_count": 60,
     "metadata": {},
     "output_type": "execute_result"
    }
   ],
   "source": [
    "metrics.confusion_matrix(y_test,y_pred)"
   ]
  },
  {
   "cell_type": "markdown",
   "id": "1c4ee7f5",
   "metadata": {},
   "source": [
    "### saving the model into a submission file\n"
   ]
  },
  {
   "cell_type": "code",
   "execution_count": 64,
   "id": "7ba48aec",
   "metadata": {
    "ExecuteTime": {
     "end_time": "2022-03-28T21:06:01.781680Z",
     "start_time": "2022-03-28T21:06:01.765681Z"
    }
   },
   "outputs": [],
   "source": [
    "def save(model, file_name):\n",
    "    # example_sub.describe()\n",
    "    sub_file = test[['PassengerId']]  # creates a submission dataframe;\n",
    "    test_inputs = test[['Pclass', 'Sex', 'Age','Fare']]\n",
    "    sub_file_predictions = model.predict(test_inputs)\n",
    "    print(sub_file_predictions)\n",
    "    sub_file['Survived'] = sub_file_predictions\n",
    "\n",
    "    sub_file.to_csv(file_name, index=False)\n",
    "    print(f'File saved at {os.getcwd()}\\\\{file_name}')"
   ]
  },
  {
   "cell_type": "code",
   "execution_count": 65,
   "id": "996778c4",
   "metadata": {
    "ExecuteTime": {
     "end_time": "2022-03-28T21:06:16.448769Z",
     "start_time": "2022-03-28T21:06:15.893019Z"
    },
    "scrolled": true
   },
   "outputs": [
    {
     "name": "stdout",
     "output_type": "stream",
     "text": [
      "              precision    recall  f1-score   support\n",
      "\n",
      "           0       0.79      0.93      0.86       165\n",
      "           1       0.85      0.61      0.71       103\n",
      "\n",
      "    accuracy                           0.81       268\n",
      "   macro avg       0.82      0.77      0.78       268\n",
      "weighted avg       0.82      0.81      0.80       268\n",
      "\n",
      "\n",
      "Arrangement of the important features that make up the model\n",
      "{'Pclass': 0.19508445480534717, 'Sex': 0.429229835203547, 'Age': 0.14651699179636843, 'Fare': 0.22916871819473744}\n"
     ]
    }
   ],
   "source": [
    "rf = RandomForestClassifier(n_estimators=100, max_depth=5, random_state=1)\n",
    "rf.fit(X_train, y_train)\n",
    "rf_predictions = rf.predict(X_test)\n",
    "print(metrics.classification_report(y_test, rf_predictions))\n",
    "print()\n",
    "print('Arrangement of the important features that make up the model')\n",
    "print(dict(zip(X.columns,rf.feature_importances_)))\n"
   ]
  },
  {
   "cell_type": "code",
   "execution_count": 66,
   "id": "12821f22",
   "metadata": {
    "ExecuteTime": {
     "end_time": "2022-03-28T21:06:18.241757Z",
     "start_time": "2022-03-28T21:06:18.137271Z"
    }
   },
   "outputs": [
    {
     "name": "stdout",
     "output_type": "stream",
     "text": [
      "[0 0 0 0 1 0 0 0 1 0 0 0 1 0 1 1 0 0 0 0 0 0 1 0 1 0 1 0 1 0 0 0 0 0 0 0 0\n",
      " 0 0 0 0 1 0 1 1 0 0 0 1 1 0 0 1 1 0 0 0 0 0 1 0 0 0 1 1 1 1 0 0 1 1 0 0 0\n",
      " 1 0 0 1 0 1 1 0 0 0 0 0 1 0 1 1 0 0 1 0 0 0 1 0 1 0 1 0 0 0 0 0 0 0 0 0 0\n",
      " 1 1 1 1 0 0 1 0 1 1 0 1 0 0 1 0 0 0 0 0 0 0 0 0 0 0 0 0 0 0 1 0 0 1 0 0 0\n",
      " 1 0 1 0 0 1 0 0 1 1 1 0 1 1 1 0 0 0 0 0 1 0 0 0 0 0 0 1 1 0 1 1 0 0 1 0 1\n",
      " 0 1 0 0 0 0 0 0 0 1 0 1 1 0 0 1 1 0 1 0 0 0 0 1 0 0 0 0 1 0 0 1 0 1 0 1 0\n",
      " 1 0 1 1 0 1 0 0 0 1 0 0 0 0 0 0 1 1 1 1 0 0 0 0 1 0 1 1 1 0 0 0 0 0 0 0 1\n",
      " 0 0 0 1 1 0 0 0 0 0 0 0 0 1 1 0 1 0 0 0 0 0 1 1 1 1 0 0 0 0 0 0 0 0 0 0 0\n",
      " 1 0 0 0 0 0 0 0 1 1 0 0 0 0 0 0 0 0 1 1 0 0 0 0 0 0 0 1 1 0 1 0 0 0 1 1 0\n",
      " 1 0 0 0 0 0 0 0 0 0 1 0 1 0 0 0 1 1 0 0 0 1 0 1 0 0 0 0 1 1 0 1 0 0 0 1 0\n",
      " 0 1 0 0 1 1 0 0 0 0 0 0 1 1 0 1 0 0 0 0 0 1 0 0 0 1 0 1 0 0 1 0 1 0 0 0 0\n",
      " 0 1 1 1 1 1 0 1 0 0 0]\n",
      "File saved at C:\\Users\\samuel\\Documents\\kaggle_titanic\\random-forest-submission2.csv\n"
     ]
    }
   ],
   "source": [
    "save(rf,'random-forest-submission2.csv')"
   ]
  },
  {
   "cell_type": "markdown",
   "id": "7ac381d1",
   "metadata": {},
   "source": [
    "# HYPERPARAMETER TUNING"
   ]
  },
  {
   "cell_type": "code",
   "execution_count": 67,
   "id": "2ba0cf16",
   "metadata": {
    "ExecuteTime": {
     "end_time": "2022-03-28T21:06:43.209177Z",
     "start_time": "2022-03-28T21:06:25.918578Z"
    }
   },
   "outputs": [
    {
     "data": {
      "text/plain": [
       "<matplotlib.legend.Legend at 0x1e4474759d0>"
      ]
     },
     "execution_count": 67,
     "metadata": {},
     "output_type": "execute_result"
    },
    {
     "data": {
      "image/png": "[encoded data removed]",
      "text/plain": [
       "<Figure size 432x288 with 1 Axes>"
      ]
     },
     "metadata": {},
     "output_type": "display_data"
    }
   ],
   "source": [
    "test_accuracy,train_accuracy = [],[]\n",
    "depths = np.arange(1,30)\n",
    "for i in depths:\n",
    "    model = RandomForestClassifier(n_estimators=100,random_state=0,max_depth=i)\n",
    "    model.fit(X_train,y_train)\n",
    "    train_accuracy.append(model.score(X_train,y_train))\n",
    "    test_accuracy.append(model.score(X_test,y_test))\n",
    "    \n",
    "plt.style.use('ggplot')    \n",
    "plt.plot(depths,test_accuracy,marker='o',c='red',label='test accuracy')\n",
    "plt.plot(depths,train_accuracy,marker='o',c='blue',label='train accuracy')\n",
    "plt.legend(loc='upper right')\n",
    "\n",
    "    "
   ]
  },
  {
   "cell_type": "code",
   "execution_count": 68,
   "id": "e6d1a687",
   "metadata": {
    "ExecuteTime": {
     "end_time": "2022-03-28T21:06:43.590921Z",
     "start_time": "2022-03-28T21:06:43.217167Z"
    }
   },
   "outputs": [
    {
     "data": {
      "text/plain": [
       "'              precision    recall  f1-score   support\\n\\n           0       0.81      0.85      0.83       165\\n           1       0.74      0.69      0.71       103\\n\\n    accuracy                           0.79       268\\n   macro avg       0.78      0.77      0.77       268\\nweighted avg       0.79      0.79      0.79       268\\n'"
      ]
     },
     "execution_count": 68,
     "metadata": {},
     "output_type": "execute_result"
    }
   ],
   "source": [
    "from sklearn.ensemble import AdaBoostClassifier\n",
    "ada = AdaBoostClassifier(random_state=42)\n",
    "ada.fit(X_train,y_train)\n",
    "ada_preds = ada.predict(X_test)\n",
    "metrics.classification_report(y_test,ada_preds)"
   ]
  },
  {
   "cell_type": "code",
   "execution_count": 69,
   "id": "7285d654",
   "metadata": {
    "ExecuteTime": {
     "end_time": "2022-03-28T21:06:43.686938Z",
     "start_time": "2022-03-28T21:06:43.590921Z"
    }
   },
   "outputs": [
    {
     "name": "stdout",
     "output_type": "stream",
     "text": [
      "[0 0 0 0 0 0 0 0 0 0 0 0 1 1 1 1 0 0 1 1 1 0 1 1 1 0 1 0 0 0 0 0 1 0 1 0 1\n",
      " 0 0 0 0 1 0 1 1 0 0 0 1 1 1 0 1 1 0 0 0 0 0 1 0 0 0 0 1 1 1 0 1 1 1 0 1 1\n",
      " 1 0 0 1 0 1 0 0 0 0 0 0 1 0 1 0 0 0 1 0 1 0 0 0 1 0 1 0 0 0 0 0 0 0 0 0 0\n",
      " 1 1 0 1 0 0 1 1 1 1 0 1 0 0 1 0 0 0 0 0 0 0 0 0 0 0 0 0 0 1 1 0 0 0 0 0 0\n",
      " 1 0 1 0 0 0 0 0 1 1 0 0 1 0 1 0 0 0 0 0 1 0 0 0 0 0 0 1 1 1 1 0 0 1 1 0 1\n",
      " 0 1 0 1 0 0 1 0 0 1 0 1 1 0 1 1 1 0 1 0 1 1 0 1 0 0 0 0 1 1 0 1 0 1 0 1 0\n",
      " 1 0 1 0 0 1 0 0 1 1 0 0 1 0 0 0 1 1 1 1 1 0 0 0 1 0 1 0 1 0 1 0 0 0 0 0 1\n",
      " 0 0 0 1 1 0 0 0 0 1 0 1 0 1 1 0 1 0 0 0 0 0 1 1 1 1 0 0 1 0 0 0 0 0 1 0 0\n",
      " 1 0 0 0 0 0 0 0 1 0 0 1 0 0 0 0 0 1 1 1 0 0 0 0 0 0 0 1 1 0 1 1 0 0 1 0 0\n",
      " 1 0 1 0 0 0 0 0 0 0 1 0 0 0 0 0 1 1 0 0 0 1 0 1 0 0 1 0 1 1 0 1 1 0 0 1 0\n",
      " 0 1 0 0 1 1 0 0 0 0 0 0 0 1 0 1 0 0 0 0 1 1 0 0 0 1 0 1 0 0 1 0 1 0 0 0 0\n",
      " 0 1 1 1 1 1 0 1 0 0 0]\n",
      "File saved at C:\\Users\\samuel\\Documents\\kaggle_titanic\\ada-boost.csv\n"
     ]
    }
   ],
   "source": [
    "save(ada,'ada-boost.csv')"
   ]
  },
  {
   "cell_type": "code",
   "execution_count": 70,
   "id": "35c7a28e",
   "metadata": {
    "ExecuteTime": {
     "end_time": "2022-03-28T21:09:39.907557Z",
     "start_time": "2022-03-28T21:09:39.867048Z"
    }
   },
   "outputs": [
    {
     "name": "stdout",
     "output_type": "stream",
     "text": [
      "[0 0 0 0 1 0 1 0 1 0 0 0 1 0 1 1 0 0 1 0 0 0 1 1 1 0 1 0 0 0 0 0 0 1 1 0 1\n",
      " 1 0 0 0 1 0 1 1 0 0 0 1 0 1 0 1 1 0 0 0 0 0 1 0 0 0 1 1 1 1 0 1 1 1 0 1 1\n",
      " 1 0 0 1 0 1 0 0 0 0 0 0 1 1 1 0 1 0 1 0 1 0 1 0 1 0 1 0 0 0 1 0 0 0 0 0 0\n",
      " 1 1 1 1 0 0 1 0 1 1 0 1 0 0 1 0 1 0 0 0 0 1 0 0 0 0 0 1 0 1 1 0 0 0 0 1 0\n",
      " 1 0 1 0 0 0 0 0 1 1 0 1 1 0 1 0 0 1 0 0 1 1 0 0 0 0 0 1 1 0 1 1 0 0 1 0 1\n",
      " 0 1 0 1 0 0 1 0 0 0 0 1 1 0 1 1 0 0 1 0 1 0 0 1 0 0 0 0 1 0 0 1 0 1 0 1 0\n",
      " 1 0 1 1 0 1 0 0 0 1 0 0 0 0 0 0 1 1 1 1 0 0 0 0 1 0 1 1 1 0 1 0 0 0 0 0 1\n",
      " 0 0 0 1 1 0 0 1 0 1 0 0 0 1 1 0 1 0 0 0 0 1 0 1 1 1 0 0 1 0 0 1 1 0 0 0 0\n",
      " 1 0 1 0 0 0 0 0 1 1 0 0 0 0 0 0 0 0 1 1 0 0 0 0 0 0 0 1 1 0 1 0 0 0 1 0 0\n",
      " 1 0 1 0 0 0 0 0 0 0 1 0 1 0 0 0 1 1 0 0 0 1 0 1 0 0 1 0 1 1 0 1 1 0 1 1 0\n",
      " 0 1 0 0 1 1 1 0 0 0 0 0 1 1 0 1 0 0 0 0 1 1 0 0 0 1 0 1 0 0 1 0 1 1 0 0 0\n",
      " 0 1 1 1 1 1 0 1 0 0 0]\n",
      "File saved at C:\\Users\\samuel\\Documents\\kaggle_titanic\\logreg1.csv\n"
     ]
    }
   ],
   "source": [
    "save(logreg,'logreg1.csv')"
   ]
  }
 ],
 "metadata": {
  "kernelspec": {
   "display_name": "Python 3.9.6 64-bit",
   "language": "python",
   "name": "python396jvsc74a57bd0342aa5655132cbf71a715f798c1954c8e10fd62576e079eb1568ff3b5ac83c42"
  },
  "language_info": {
   "codemirror_mode": {
    "name": "ipython",
    "version": 3
   },
   "file_extension": ".py",
   "mimetype": "text/x-python",
   "name": "python",
   "nbconvert_exporter": "python",
   "pygments_lexer": "ipython3",
   "version": "3.9.6"
  }
 },
 "nbformat": 4,
 "nbformat_minor": 5
}
